{
 "cells": [
  {
   "cell_type": "markdown",
   "id": "fac8ffd4",
   "metadata": {},
   "source": [
    "## Top Spotify Songs in 73 countries (Daily Updated)"
   ]
  },
  {
   "cell_type": "markdown",
   "id": "2805a55b",
   "metadata": {},
   "source": [
    "https://www.kaggle.com/datasets/asaniczka/top-spotify-songs-in-73-countries-daily-updated"
   ]
  },
  {
   "cell_type": "markdown",
   "id": "aa2d2c26",
   "metadata": {},
   "source": [
    "Interesting Task Ideas:\n",
    "1. Identify the most popular genres of music in different countries over time.\n",
    "2. Analyze the change in rankings of songs over time to identify trends and patterns.\n",
    "3. Investigate whether there is a correlation between song popularity and its danceability or energy level.\n",
    "4. Explore the relationship between the explicitness of songs and their popularity.\n",
    "5. Analyze the relationship between song features (such as acousticness or instrumentalness) and their popularity.\n",
    "6. Predict the future popularity of songs based on historical data and machine learning algorithms.\n",
    "7. Compare the top songs in different countries to identify cultural music preferences."
   ]
  },
  {
   "cell_type": "code",
   "execution_count": 1,
   "id": "d9ec8d91",
   "metadata": {},
   "outputs": [],
   "source": [
    "import pandas as pd"
   ]
  },
  {
   "cell_type": "code",
   "execution_count": 2,
   "id": "697a5799",
   "metadata": {},
   "outputs": [
    {
     "name": "stdout",
     "output_type": "stream",
     "text": [
      "<class 'pandas.core.frame.DataFrame'>\n",
      "RangeIndex: 40172 entries, 0 to 40171\n",
      "Data columns (total 25 columns):\n",
      " #   Column              Non-Null Count  Dtype  \n",
      "---  ------              --------------  -----  \n",
      " 0   spotify_id          40172 non-null  object \n",
      " 1   name                40171 non-null  object \n",
      " 2   artists             40171 non-null  object \n",
      " 3   daily_rank          40172 non-null  int64  \n",
      " 4   daily_movement      40172 non-null  int64  \n",
      " 5   weekly_movement     40172 non-null  int64  \n",
      " 6   country             39620 non-null  object \n",
      " 7   snapshot_date       40172 non-null  object \n",
      " 8   popularity          40172 non-null  int64  \n",
      " 9   is_explicit         40172 non-null  bool   \n",
      " 10  duration_ms         40172 non-null  int64  \n",
      " 11  album_name          40171 non-null  object \n",
      " 12  album_release_date  40171 non-null  object \n",
      " 13  danceability        40172 non-null  float64\n",
      " 14  energy              40172 non-null  float64\n",
      " 15  key                 40172 non-null  int64  \n",
      " 16  loudness            40172 non-null  float64\n",
      " 17  mode                40172 non-null  int64  \n",
      " 18  speechiness         40172 non-null  float64\n",
      " 19  acousticness        40172 non-null  float64\n",
      " 20  instrumentalness    40172 non-null  float64\n",
      " 21  liveness            40172 non-null  float64\n",
      " 22  valence             40172 non-null  float64\n",
      " 23  tempo               40172 non-null  float64\n",
      " 24  time_signature      40172 non-null  int64  \n",
      "dtypes: bool(1), float64(9), int64(8), object(7)\n",
      "memory usage: 7.4+ MB\n"
     ]
    }
   ],
   "source": [
    "df = pd.read_csv('./universal_top_spotify_songs.csv')\n",
    "\n",
    "df.info()       # Tiene un total de 40.000 filas y 25 columnas. La columna con mayor número de nulos es country"
   ]
  },
  {
   "cell_type": "code",
   "execution_count": 10,
   "id": "80cfdd81",
   "metadata": {},
   "outputs": [
    {
     "data": {
      "text/plain": [
       "'\\n¿Qué veo? \\nLa columna de artistas es una cadena de string donde, si hay una colaboración, se muestra una enumeración de artistas \\nseparados por comas. El principal suele ser el primero. \\n\\n'"
      ]
     },
     "execution_count": 10,
     "metadata": {},
     "output_type": "execute_result"
    }
   ],
   "source": [
    "df.head()\n",
    "\"\"\"\n",
    "¿Qué veo? \n",
    "La columna de artistas es una cadena de string donde, si hay una colaboración, se muestra una enumeración de artistas \n",
    "separados por comas. El principal suele ser el primero. \n",
    "\n",
    "\"\"\""
   ]
  },
  {
   "cell_type": "code",
   "execution_count": 16,
   "id": "77835f3e",
   "metadata": {},
   "outputs": [
    {
     "data": {
      "text/html": [
       "<div>\n",
       "<style scoped>\n",
       "    .dataframe tbody tr th:only-of-type {\n",
       "        vertical-align: middle;\n",
       "    }\n",
       "\n",
       "    .dataframe tbody tr th {\n",
       "        vertical-align: top;\n",
       "    }\n",
       "\n",
       "    .dataframe thead th {\n",
       "        text-align: right;\n",
       "    }\n",
       "</style>\n",
       "<table border=\"1\" class=\"dataframe\">\n",
       "  <thead>\n",
       "    <tr style=\"text-align: right;\">\n",
       "      <th></th>\n",
       "      <th>spotify_id</th>\n",
       "      <th>name</th>\n",
       "      <th>artists</th>\n",
       "      <th>daily_rank</th>\n",
       "      <th>daily_movement</th>\n",
       "      <th>weekly_movement</th>\n",
       "      <th>country</th>\n",
       "      <th>snapshot_date</th>\n",
       "      <th>popularity</th>\n",
       "      <th>is_explicit</th>\n",
       "      <th>...</th>\n",
       "      <th>key</th>\n",
       "      <th>loudness</th>\n",
       "      <th>mode</th>\n",
       "      <th>speechiness</th>\n",
       "      <th>acousticness</th>\n",
       "      <th>instrumentalness</th>\n",
       "      <th>liveness</th>\n",
       "      <th>valence</th>\n",
       "      <th>tempo</th>\n",
       "      <th>time_signature</th>\n",
       "    </tr>\n",
       "  </thead>\n",
       "  <tbody>\n",
       "    <tr>\n",
       "      <th>0</th>\n",
       "      <td>7x9aauaA9cu6tyfpHnqDLo</td>\n",
       "      <td>Seven (feat. Latto) (Explicit Ver.)</td>\n",
       "      <td>Jung Kook, Latto</td>\n",
       "      <td>1</td>\n",
       "      <td>1</td>\n",
       "      <td>2</td>\n",
       "      <td>NaN</td>\n",
       "      <td>2023-10-28</td>\n",
       "      <td>97</td>\n",
       "      <td>True</td>\n",
       "      <td>...</td>\n",
       "      <td>11</td>\n",
       "      <td>-4.107</td>\n",
       "      <td>1</td>\n",
       "      <td>0.0434</td>\n",
       "      <td>0.3110</td>\n",
       "      <td>0.000000</td>\n",
       "      <td>0.0815</td>\n",
       "      <td>0.890</td>\n",
       "      <td>124.997</td>\n",
       "      <td>4</td>\n",
       "    </tr>\n",
       "    <tr>\n",
       "      <th>1</th>\n",
       "      <td>2HafqoJbgXdtjwCOvNEF14</td>\n",
       "      <td>Si No Estás</td>\n",
       "      <td>iñigo quintero</td>\n",
       "      <td>2</td>\n",
       "      <td>-1</td>\n",
       "      <td>2</td>\n",
       "      <td>NaN</td>\n",
       "      <td>2023-10-28</td>\n",
       "      <td>98</td>\n",
       "      <td>False</td>\n",
       "      <td>...</td>\n",
       "      <td>5</td>\n",
       "      <td>-8.720</td>\n",
       "      <td>1</td>\n",
       "      <td>0.0285</td>\n",
       "      <td>0.8270</td>\n",
       "      <td>0.000000</td>\n",
       "      <td>0.1380</td>\n",
       "      <td>0.524</td>\n",
       "      <td>98.224</td>\n",
       "      <td>4</td>\n",
       "    </tr>\n",
       "    <tr>\n",
       "      <th>2</th>\n",
       "      <td>3rUGC1vUpkDG9CZFHMur1t</td>\n",
       "      <td>greedy</td>\n",
       "      <td>Tate McRae</td>\n",
       "      <td>3</td>\n",
       "      <td>0</td>\n",
       "      <td>-1</td>\n",
       "      <td>NaN</td>\n",
       "      <td>2023-10-28</td>\n",
       "      <td>99</td>\n",
       "      <td>True</td>\n",
       "      <td>...</td>\n",
       "      <td>6</td>\n",
       "      <td>-3.180</td>\n",
       "      <td>0</td>\n",
       "      <td>0.0319</td>\n",
       "      <td>0.2560</td>\n",
       "      <td>0.000000</td>\n",
       "      <td>0.1140</td>\n",
       "      <td>0.844</td>\n",
       "      <td>111.018</td>\n",
       "      <td>1</td>\n",
       "    </tr>\n",
       "    <tr>\n",
       "      <th>3</th>\n",
       "      <td>7iQXYTyuG13aoeHxGG28Nh</td>\n",
       "      <td>PERRO NEGRO</td>\n",
       "      <td>Bad Bunny, Feid</td>\n",
       "      <td>4</td>\n",
       "      <td>1</td>\n",
       "      <td>3</td>\n",
       "      <td>NaN</td>\n",
       "      <td>2023-10-28</td>\n",
       "      <td>95</td>\n",
       "      <td>True</td>\n",
       "      <td>...</td>\n",
       "      <td>5</td>\n",
       "      <td>-2.248</td>\n",
       "      <td>1</td>\n",
       "      <td>0.2620</td>\n",
       "      <td>0.0887</td>\n",
       "      <td>0.000022</td>\n",
       "      <td>0.1790</td>\n",
       "      <td>0.345</td>\n",
       "      <td>96.057</td>\n",
       "      <td>4</td>\n",
       "    </tr>\n",
       "    <tr>\n",
       "      <th>4</th>\n",
       "      <td>4MjDJD8cW7iVeWInc2Bdyj</td>\n",
       "      <td>MONACO</td>\n",
       "      <td>Bad Bunny</td>\n",
       "      <td>5</td>\n",
       "      <td>-1</td>\n",
       "      <td>-4</td>\n",
       "      <td>NaN</td>\n",
       "      <td>2023-10-28</td>\n",
       "      <td>96</td>\n",
       "      <td>True</td>\n",
       "      <td>...</td>\n",
       "      <td>4</td>\n",
       "      <td>-5.009</td>\n",
       "      <td>0</td>\n",
       "      <td>0.0680</td>\n",
       "      <td>0.1500</td>\n",
       "      <td>0.000402</td>\n",
       "      <td>0.5800</td>\n",
       "      <td>0.130</td>\n",
       "      <td>139.056</td>\n",
       "      <td>4</td>\n",
       "    </tr>\n",
       "  </tbody>\n",
       "</table>\n",
       "<p>5 rows × 25 columns</p>\n",
       "</div>"
      ],
      "text/plain": [
       "               spotify_id                                 name  \\\n",
       "0  7x9aauaA9cu6tyfpHnqDLo  Seven (feat. Latto) (Explicit Ver.)   \n",
       "1  2HafqoJbgXdtjwCOvNEF14                          Si No Estás   \n",
       "2  3rUGC1vUpkDG9CZFHMur1t                               greedy   \n",
       "3  7iQXYTyuG13aoeHxGG28Nh                          PERRO NEGRO   \n",
       "4  4MjDJD8cW7iVeWInc2Bdyj                               MONACO   \n",
       "\n",
       "            artists  daily_rank  daily_movement  weekly_movement country  \\\n",
       "0  Jung Kook, Latto           1               1                2     NaN   \n",
       "1    iñigo quintero           2              -1                2     NaN   \n",
       "2        Tate McRae           3               0               -1     NaN   \n",
       "3   Bad Bunny, Feid           4               1                3     NaN   \n",
       "4         Bad Bunny           5              -1               -4     NaN   \n",
       "\n",
       "  snapshot_date  popularity  is_explicit  ...  key loudness mode  speechiness  \\\n",
       "0    2023-10-28          97         True  ...   11   -4.107    1       0.0434   \n",
       "1    2023-10-28          98        False  ...    5   -8.720    1       0.0285   \n",
       "2    2023-10-28          99         True  ...    6   -3.180    0       0.0319   \n",
       "3    2023-10-28          95         True  ...    5   -2.248    1       0.2620   \n",
       "4    2023-10-28          96         True  ...    4   -5.009    0       0.0680   \n",
       "\n",
       "   acousticness  instrumentalness  liveness  valence    tempo  time_signature  \n",
       "0        0.3110          0.000000    0.0815    0.890  124.997               4  \n",
       "1        0.8270          0.000000    0.1380    0.524   98.224               4  \n",
       "2        0.2560          0.000000    0.1140    0.844  111.018               1  \n",
       "3        0.0887          0.000022    0.1790    0.345   96.057               4  \n",
       "4        0.1500          0.000402    0.5800    0.130  139.056               4  \n",
       "\n",
       "[5 rows x 25 columns]"
      ]
     },
     "execution_count": 16,
     "metadata": {},
     "output_type": "execute_result"
    }
   ],
   "source": [
    "df.head()"
   ]
  },
  {
   "cell_type": "code",
   "execution_count": 12,
   "id": "1dc92d2a",
   "metadata": {},
   "outputs": [
    {
     "data": {
      "text/plain": [
       "country\n",
       "ZA    555\n",
       "RO    553\n",
       "AT    553\n",
       "DO    553\n",
       "GR    553\n",
       "     ... \n",
       "CZ    550\n",
       "JP    550\n",
       "UY    550\n",
       "ES    550\n",
       "LU    457\n",
       "Name: count, Length: 72, dtype: int64"
      ]
     },
     "execution_count": 12,
     "metadata": {},
     "output_type": "execute_result"
    }
   ],
   "source": [
    "df['country'].value_counts()   "
   ]
  },
  {
   "cell_type": "code",
   "execution_count": 13,
   "id": "fea15872",
   "metadata": {},
   "outputs": [
    {
     "data": {
      "text/plain": [
       "name\n",
       "Paint The Town Red                         485\n",
       "greedy                                     484\n",
       "Si No Estás                                471\n",
       "Strangers                                  439\n",
       "Seven (feat. Latto) (Explicit Ver.)        356\n",
       "                                          ... \n",
       "immer busy                                   1\n",
       "Get Close                                    1\n",
       "Januar til December                          1\n",
       "Bite My Head Off (feat. Paul McCartney)      1\n",
       "Deimantai                                    1\n",
       "Name: count, Length: 2208, dtype: int64"
      ]
     },
     "execution_count": 13,
     "metadata": {},
     "output_type": "execute_result"
    }
   ],
   "source": [
    "df['name'].value_counts()   # Aquí ya puedes ver las que más se repiten: Paint the town red, greedy, si no estás\n",
    "                            # strangers y seven."
   ]
  },
  {
   "cell_type": "code",
   "execution_count": 3,
   "id": "81f7fdb3",
   "metadata": {},
   "outputs": [],
   "source": [
    "df1 = df[['name', 'artists', 'country']]  # Selecciono las columnas que me interesan en un nuevo df"
   ]
  },
  {
   "cell_type": "code",
   "execution_count": 4,
   "id": "3595df13",
   "metadata": {},
   "outputs": [
    {
     "name": "stdout",
     "output_type": "stream",
     "text": [
      "<class 'pandas.core.frame.DataFrame'>\n",
      "RangeIndex: 40172 entries, 0 to 40171\n",
      "Data columns (total 3 columns):\n",
      " #   Column   Non-Null Count  Dtype \n",
      "---  ------   --------------  ----- \n",
      " 0   name     40171 non-null  object\n",
      " 1   artists  40171 non-null  object\n",
      " 2   country  39620 non-null  object\n",
      "dtypes: object(3)\n",
      "memory usage: 941.7+ KB\n"
     ]
    }
   ],
   "source": [
    "df1.head()\n",
    "df1.info()"
   ]
  },
  {
   "cell_type": "code",
   "execution_count": 28,
   "id": "97e902f8",
   "metadata": {},
   "outputs": [
    {
     "data": {
      "text/html": [
       "<div>\n",
       "<style scoped>\n",
       "    .dataframe tbody tr th:only-of-type {\n",
       "        vertical-align: middle;\n",
       "    }\n",
       "\n",
       "    .dataframe tbody tr th {\n",
       "        vertical-align: top;\n",
       "    }\n",
       "\n",
       "    .dataframe thead th {\n",
       "        text-align: right;\n",
       "    }\n",
       "</style>\n",
       "<table border=\"1\" class=\"dataframe\">\n",
       "  <thead>\n",
       "    <tr style=\"text-align: right;\">\n",
       "      <th></th>\n",
       "      <th>name</th>\n",
       "      <th>artists</th>\n",
       "      <th>country</th>\n",
       "    </tr>\n",
       "  </thead>\n",
       "  <tbody>\n",
       "    <tr>\n",
       "      <th>0</th>\n",
       "      <td>False</td>\n",
       "      <td>False</td>\n",
       "      <td>True</td>\n",
       "    </tr>\n",
       "    <tr>\n",
       "      <th>1</th>\n",
       "      <td>False</td>\n",
       "      <td>False</td>\n",
       "      <td>True</td>\n",
       "    </tr>\n",
       "    <tr>\n",
       "      <th>2</th>\n",
       "      <td>False</td>\n",
       "      <td>False</td>\n",
       "      <td>True</td>\n",
       "    </tr>\n",
       "    <tr>\n",
       "      <th>3</th>\n",
       "      <td>False</td>\n",
       "      <td>False</td>\n",
       "      <td>True</td>\n",
       "    </tr>\n",
       "    <tr>\n",
       "      <th>4</th>\n",
       "      <td>False</td>\n",
       "      <td>False</td>\n",
       "      <td>True</td>\n",
       "    </tr>\n",
       "    <tr>\n",
       "      <th>...</th>\n",
       "      <td>...</td>\n",
       "      <td>...</td>\n",
       "      <td>...</td>\n",
       "    </tr>\n",
       "    <tr>\n",
       "      <th>40167</th>\n",
       "      <td>False</td>\n",
       "      <td>False</td>\n",
       "      <td>False</td>\n",
       "    </tr>\n",
       "    <tr>\n",
       "      <th>40168</th>\n",
       "      <td>False</td>\n",
       "      <td>False</td>\n",
       "      <td>False</td>\n",
       "    </tr>\n",
       "    <tr>\n",
       "      <th>40169</th>\n",
       "      <td>False</td>\n",
       "      <td>False</td>\n",
       "      <td>False</td>\n",
       "    </tr>\n",
       "    <tr>\n",
       "      <th>40170</th>\n",
       "      <td>False</td>\n",
       "      <td>False</td>\n",
       "      <td>False</td>\n",
       "    </tr>\n",
       "    <tr>\n",
       "      <th>40171</th>\n",
       "      <td>False</td>\n",
       "      <td>False</td>\n",
       "      <td>False</td>\n",
       "    </tr>\n",
       "  </tbody>\n",
       "</table>\n",
       "<p>40172 rows × 3 columns</p>\n",
       "</div>"
      ],
      "text/plain": [
       "        name  artists  country\n",
       "0      False    False     True\n",
       "1      False    False     True\n",
       "2      False    False     True\n",
       "3      False    False     True\n",
       "4      False    False     True\n",
       "...      ...      ...      ...\n",
       "40167  False    False    False\n",
       "40168  False    False    False\n",
       "40169  False    False    False\n",
       "40170  False    False    False\n",
       "40171  False    False    False\n",
       "\n",
       "[40172 rows x 3 columns]"
      ]
     },
     "execution_count": 28,
     "metadata": {},
     "output_type": "execute_result"
    }
   ],
   "source": [
    "df1.isnull()    "
   ]
  },
  {
   "cell_type": "code",
   "execution_count": 29,
   "id": "9895a9f1",
   "metadata": {},
   "outputs": [
    {
     "data": {
      "text/plain": [
       "name         1\n",
       "artists      1\n",
       "country    552\n",
       "dtype: int64"
      ]
     },
     "execution_count": 29,
     "metadata": {},
     "output_type": "execute_result"
    }
   ],
   "source": [
    "null_cols = df1.isnull().sum()\n",
    "null_cols"
   ]
  },
  {
   "cell_type": "code",
   "execution_count": 5,
   "id": "d3f19c45",
   "metadata": {},
   "outputs": [],
   "source": [
    "df2 = df1.dropna().reset_index()   # Me marco todos los valores nulos, estén donde estén y reseteo el index"
   ]
  },
  {
   "cell_type": "code",
   "execution_count": 6,
   "id": "0c299814",
   "metadata": {},
   "outputs": [
    {
     "data": {
      "text/html": [
       "<div>\n",
       "<style scoped>\n",
       "    .dataframe tbody tr th:only-of-type {\n",
       "        vertical-align: middle;\n",
       "    }\n",
       "\n",
       "    .dataframe tbody tr th {\n",
       "        vertical-align: top;\n",
       "    }\n",
       "\n",
       "    .dataframe thead th {\n",
       "        text-align: right;\n",
       "    }\n",
       "</style>\n",
       "<table border=\"1\" class=\"dataframe\">\n",
       "  <thead>\n",
       "    <tr style=\"text-align: right;\">\n",
       "      <th></th>\n",
       "      <th>index</th>\n",
       "      <th>name</th>\n",
       "      <th>artists</th>\n",
       "      <th>country</th>\n",
       "    </tr>\n",
       "  </thead>\n",
       "  <tbody>\n",
       "    <tr>\n",
       "      <th>0</th>\n",
       "      <td>50</td>\n",
       "      <td>iPlan</td>\n",
       "      <td>Dlala Thukzin, Zaba, Sykes</td>\n",
       "      <td>ZA</td>\n",
       "    </tr>\n",
       "    <tr>\n",
       "      <th>1</th>\n",
       "      <td>51</td>\n",
       "      <td>Imnandi lento (feat. Tman Xpress)</td>\n",
       "      <td>Mellow &amp; Sleazy, SjavasDaDeejay, TitoM, Tman X...</td>\n",
       "      <td>ZA</td>\n",
       "    </tr>\n",
       "    <tr>\n",
       "      <th>2</th>\n",
       "      <td>52</td>\n",
       "      <td>Water</td>\n",
       "      <td>Tyla</td>\n",
       "      <td>ZA</td>\n",
       "    </tr>\n",
       "    <tr>\n",
       "      <th>3</th>\n",
       "      <td>53</td>\n",
       "      <td>Isgubhu</td>\n",
       "      <td>Sam Deep, Njelic, Aymos</td>\n",
       "      <td>ZA</td>\n",
       "    </tr>\n",
       "    <tr>\n",
       "      <th>4</th>\n",
       "      <td>54</td>\n",
       "      <td>Awukhuzeki</td>\n",
       "      <td>DJ Stokie, Omit ST, Sobzeen, Zee_nhle</td>\n",
       "      <td>ZA</td>\n",
       "    </tr>\n",
       "  </tbody>\n",
       "</table>\n",
       "</div>"
      ],
      "text/plain": [
       "   index                               name  \\\n",
       "0     50                              iPlan   \n",
       "1     51  Imnandi lento (feat. Tman Xpress)   \n",
       "2     52                              Water   \n",
       "3     53                            Isgubhu   \n",
       "4     54                         Awukhuzeki   \n",
       "\n",
       "                                             artists country  \n",
       "0                         Dlala Thukzin, Zaba, Sykes      ZA  \n",
       "1  Mellow & Sleazy, SjavasDaDeejay, TitoM, Tman X...      ZA  \n",
       "2                                               Tyla      ZA  \n",
       "3                            Sam Deep, Njelic, Aymos      ZA  \n",
       "4              DJ Stokie, Omit ST, Sobzeen, Zee_nhle      ZA  "
      ]
     },
     "execution_count": 6,
     "metadata": {},
     "output_type": "execute_result"
    }
   ],
   "source": [
    "df2.head()"
   ]
  },
  {
   "cell_type": "code",
   "execution_count": 7,
   "id": "37377e03",
   "metadata": {},
   "outputs": [],
   "source": [
    "name_country = df.groupby(\"name\")[\"country\"].nunique().reset_index()   \n",
    "# En name_country meto el resultado de agrupar nombre y el conteno de country, y resetear el index"
   ]
  },
  {
   "cell_type": "code",
   "execution_count": 10,
   "id": "ae50ed13",
   "metadata": {},
   "outputs": [],
   "source": [
    "name_country = name_country.sort_values(by=\"country\", ascending=False)\n",
    "# Ahora ordeno los valores por total de country en orden descendente"
   ]
  },
  {
   "cell_type": "code",
   "execution_count": 11,
   "id": "99847602",
   "metadata": {},
   "outputs": [
    {
     "data": {
      "text/html": [
       "<div>\n",
       "<style scoped>\n",
       "    .dataframe tbody tr th:only-of-type {\n",
       "        vertical-align: middle;\n",
       "    }\n",
       "\n",
       "    .dataframe tbody tr th {\n",
       "        vertical-align: top;\n",
       "    }\n",
       "\n",
       "    .dataframe thead th {\n",
       "        text-align: right;\n",
       "    }\n",
       "</style>\n",
       "<table border=\"1\" class=\"dataframe\">\n",
       "  <thead>\n",
       "    <tr style=\"text-align: right;\">\n",
       "      <th></th>\n",
       "      <th>name</th>\n",
       "      <th>country</th>\n",
       "    </tr>\n",
       "  </thead>\n",
       "  <tbody>\n",
       "    <tr>\n",
       "      <th>1230</th>\n",
       "      <td>Paint The Town Red</td>\n",
       "      <td>45</td>\n",
       "    </tr>\n",
       "    <tr>\n",
       "      <th>1840</th>\n",
       "      <td>greedy</td>\n",
       "      <td>45</td>\n",
       "    </tr>\n",
       "    <tr>\n",
       "      <th>1453</th>\n",
       "      <td>Si No Estás</td>\n",
       "      <td>43</td>\n",
       "    </tr>\n",
       "    <tr>\n",
       "      <th>1522</th>\n",
       "      <td>Strangers</td>\n",
       "      <td>39</td>\n",
       "    </tr>\n",
       "    <tr>\n",
       "      <th>1436</th>\n",
       "      <td>Seven (feat. Latto) (Explicit Ver.)</td>\n",
       "      <td>37</td>\n",
       "    </tr>\n",
       "  </tbody>\n",
       "</table>\n",
       "</div>"
      ],
      "text/plain": [
       "                                     name  country\n",
       "1230                   Paint The Town Red       45\n",
       "1840                               greedy       45\n",
       "1453                          Si No Estás       43\n",
       "1522                            Strangers       39\n",
       "1436  Seven (feat. Latto) (Explicit Ver.)       37"
      ]
     },
     "execution_count": 11,
     "metadata": {},
     "output_type": "execute_result"
    }
   ],
   "source": [
    "name_country.head() # Con este resultado veo que la canción 'Si No Estás' figura en el TOP50 de 43 países"
   ]
  },
  {
   "cell_type": "code",
   "execution_count": null,
   "id": "9c13cb18",
   "metadata": {},
   "outputs": [],
   "source": [
    "# Averiguar en qué países es tendencia 'Si no estás'"
   ]
  },
  {
   "cell_type": "code",
   "execution_count": 12,
   "id": "91e4d566",
   "metadata": {},
   "outputs": [
    {
     "data": {
      "text/html": [
       "<div>\n",
       "<style scoped>\n",
       "    .dataframe tbody tr th:only-of-type {\n",
       "        vertical-align: middle;\n",
       "    }\n",
       "\n",
       "    .dataframe tbody tr th {\n",
       "        vertical-align: top;\n",
       "    }\n",
       "\n",
       "    .dataframe thead th {\n",
       "        text-align: right;\n",
       "    }\n",
       "</style>\n",
       "<table border=\"1\" class=\"dataframe\">\n",
       "  <thead>\n",
       "    <tr style=\"text-align: right;\">\n",
       "      <th></th>\n",
       "      <th>index</th>\n",
       "      <th>name</th>\n",
       "      <th>artists</th>\n",
       "      <th>country</th>\n",
       "    </tr>\n",
       "  </thead>\n",
       "  <tbody>\n",
       "    <tr>\n",
       "      <th>0</th>\n",
       "      <td>50</td>\n",
       "      <td>iPlan</td>\n",
       "      <td>Dlala Thukzin, Zaba, Sykes</td>\n",
       "      <td>ZA</td>\n",
       "    </tr>\n",
       "    <tr>\n",
       "      <th>1</th>\n",
       "      <td>51</td>\n",
       "      <td>Imnandi lento (feat. Tman Xpress)</td>\n",
       "      <td>Mellow &amp; Sleazy, SjavasDaDeejay, TitoM, Tman X...</td>\n",
       "      <td>ZA</td>\n",
       "    </tr>\n",
       "    <tr>\n",
       "      <th>2</th>\n",
       "      <td>52</td>\n",
       "      <td>Water</td>\n",
       "      <td>Tyla</td>\n",
       "      <td>ZA</td>\n",
       "    </tr>\n",
       "    <tr>\n",
       "      <th>3</th>\n",
       "      <td>53</td>\n",
       "      <td>Isgubhu</td>\n",
       "      <td>Sam Deep, Njelic, Aymos</td>\n",
       "      <td>ZA</td>\n",
       "    </tr>\n",
       "    <tr>\n",
       "      <th>4</th>\n",
       "      <td>54</td>\n",
       "      <td>Awukhuzeki</td>\n",
       "      <td>DJ Stokie, Omit ST, Sobzeen, Zee_nhle</td>\n",
       "      <td>ZA</td>\n",
       "    </tr>\n",
       "  </tbody>\n",
       "</table>\n",
       "</div>"
      ],
      "text/plain": [
       "   index                               name  \\\n",
       "0     50                              iPlan   \n",
       "1     51  Imnandi lento (feat. Tman Xpress)   \n",
       "2     52                              Water   \n",
       "3     53                            Isgubhu   \n",
       "4     54                         Awukhuzeki   \n",
       "\n",
       "                                             artists country  \n",
       "0                         Dlala Thukzin, Zaba, Sykes      ZA  \n",
       "1  Mellow & Sleazy, SjavasDaDeejay, TitoM, Tman X...      ZA  \n",
       "2                                               Tyla      ZA  \n",
       "3                            Sam Deep, Njelic, Aymos      ZA  \n",
       "4              DJ Stokie, Omit ST, Sobzeen, Zee_nhle      ZA  "
      ]
     },
     "execution_count": 12,
     "metadata": {},
     "output_type": "execute_result"
    }
   ],
   "source": [
    "df2.head()    # Regreso a df2 porque es el dataframe limpio sin nulos pero me muestra el país de cada una"
   ]
  },
  {
   "cell_type": "code",
   "execution_count": 14,
   "id": "9c1b6fbd",
   "metadata": {},
   "outputs": [],
   "source": [
    "cancion = 'Si No Estás'\n"
   ]
  },
  {
   "cell_type": "code",
   "execution_count": null,
   "id": "6c91cfc6",
   "metadata": {},
   "outputs": [],
   "source": []
  },
  {
   "cell_type": "code",
   "execution_count": null,
   "id": "32df99f2",
   "metadata": {},
   "outputs": [],
   "source": []
  },
  {
   "cell_type": "code",
   "execution_count": null,
   "id": "e0b169b2",
   "metadata": {},
   "outputs": [],
   "source": []
  },
  {
   "cell_type": "code",
   "execution_count": null,
   "id": "4b11b03e",
   "metadata": {},
   "outputs": [],
   "source": []
  },
  {
   "cell_type": "code",
   "execution_count": 17,
   "id": "5cdd901f",
   "metadata": {},
   "outputs": [
    {
     "ename": "ValueError",
     "evalue": "expr must be a string to be evaluated, <class 'bool'> given",
     "output_type": "error",
     "traceback": [
      "\u001b[1;31m---------------------------------------------------------------------------\u001b[0m",
      "\u001b[1;31mValueError\u001b[0m                                Traceback (most recent call last)",
      "\u001b[1;32m~\\AppData\\Local\\Temp\\ipykernel_3880\\2704894085.py\u001b[0m in \u001b[0;36m?\u001b[1;34m()\u001b[0m\n\u001b[0;32m      1\u001b[0m \u001b[1;31m# Si canción está en columna name, devuelveme country\u001b[0m\u001b[1;33m\u001b[0m\u001b[1;33m\u001b[0m\u001b[0m\n\u001b[1;32m----> 2\u001b[1;33m \u001b[0mdf\u001b[0m\u001b[1;33m.\u001b[0m\u001b[0mquery\u001b[0m\u001b[1;33m(\u001b[0m\u001b[1;34m'name'\u001b[0m \u001b[1;33m==\u001b[0m \u001b[1;34m'Si No Estás'\u001b[0m\u001b[1;33m)\u001b[0m\u001b[1;33m\u001b[0m\u001b[1;33m\u001b[0m\u001b[0m\n\u001b[0m",
      "\u001b[1;32m~\\miniconda3\\envs\\m1_env\\lib\\site-packages\\pandas\\core\\frame.py\u001b[0m in \u001b[0;36m?\u001b[1;34m(self, expr, inplace, **kwargs)\u001b[0m\n\u001b[0;32m   4433\u001b[0m         \"\"\"\n\u001b[0;32m   4434\u001b[0m         \u001b[0minplace\u001b[0m \u001b[1;33m=\u001b[0m \u001b[0mvalidate_bool_kwarg\u001b[0m\u001b[1;33m(\u001b[0m\u001b[0minplace\u001b[0m\u001b[1;33m,\u001b[0m \u001b[1;34m\"inplace\"\u001b[0m\u001b[1;33m)\u001b[0m\u001b[1;33m\u001b[0m\u001b[1;33m\u001b[0m\u001b[0m\n\u001b[0;32m   4435\u001b[0m         \u001b[1;32mif\u001b[0m \u001b[1;32mnot\u001b[0m \u001b[0misinstance\u001b[0m\u001b[1;33m(\u001b[0m\u001b[0mexpr\u001b[0m\u001b[1;33m,\u001b[0m \u001b[0mstr\u001b[0m\u001b[1;33m)\u001b[0m\u001b[1;33m:\u001b[0m\u001b[1;33m\u001b[0m\u001b[1;33m\u001b[0m\u001b[0m\n\u001b[0;32m   4436\u001b[0m             \u001b[0mmsg\u001b[0m \u001b[1;33m=\u001b[0m \u001b[1;34mf\"expr must be a string to be evaluated, {type(expr)} given\"\u001b[0m\u001b[1;33m\u001b[0m\u001b[1;33m\u001b[0m\u001b[0m\n\u001b[1;32m-> 4437\u001b[1;33m             \u001b[1;32mraise\u001b[0m \u001b[0mValueError\u001b[0m\u001b[1;33m(\u001b[0m\u001b[0mmsg\u001b[0m\u001b[1;33m)\u001b[0m\u001b[1;33m\u001b[0m\u001b[1;33m\u001b[0m\u001b[0m\n\u001b[0m\u001b[0;32m   4438\u001b[0m         \u001b[0mkwargs\u001b[0m\u001b[1;33m[\u001b[0m\u001b[1;34m\"level\"\u001b[0m\u001b[1;33m]\u001b[0m \u001b[1;33m=\u001b[0m \u001b[0mkwargs\u001b[0m\u001b[1;33m.\u001b[0m\u001b[0mpop\u001b[0m\u001b[1;33m(\u001b[0m\u001b[1;34m\"level\"\u001b[0m\u001b[1;33m,\u001b[0m \u001b[1;36m0\u001b[0m\u001b[1;33m)\u001b[0m \u001b[1;33m+\u001b[0m \u001b[1;36m1\u001b[0m\u001b[1;33m\u001b[0m\u001b[1;33m\u001b[0m\u001b[0m\n\u001b[0;32m   4439\u001b[0m         \u001b[0mkwargs\u001b[0m\u001b[1;33m[\u001b[0m\u001b[1;34m\"target\"\u001b[0m\u001b[1;33m]\u001b[0m \u001b[1;33m=\u001b[0m \u001b[1;32mNone\u001b[0m\u001b[1;33m\u001b[0m\u001b[1;33m\u001b[0m\u001b[0m\n\u001b[0;32m   4440\u001b[0m         \u001b[0mres\u001b[0m \u001b[1;33m=\u001b[0m \u001b[0mself\u001b[0m\u001b[1;33m.\u001b[0m\u001b[0meval\u001b[0m\u001b[1;33m(\u001b[0m\u001b[0mexpr\u001b[0m\u001b[1;33m,\u001b[0m \u001b[1;33m**\u001b[0m\u001b[0mkwargs\u001b[0m\u001b[1;33m)\u001b[0m\u001b[1;33m\u001b[0m\u001b[1;33m\u001b[0m\u001b[0m\n",
      "\u001b[1;31mValueError\u001b[0m: expr must be a string to be evaluated, <class 'bool'> given"
     ]
    }
   ],
   "source": [
    "# Si canción está en columna name, devuelveme country\n",
    "df.query('name' == 'Si No Estás')"
   ]
  },
  {
   "cell_type": "code",
   "execution_count": null,
   "id": "da71399d",
   "metadata": {},
   "outputs": [],
   "source": []
  }
 ],
 "metadata": {
  "kernelspec": {
   "display_name": "Python (m1_env)",
   "language": "python",
   "name": "m1_env"
  },
  "language_info": {
   "codemirror_mode": {
    "name": "ipython",
    "version": 3
   },
   "file_extension": ".py",
   "mimetype": "text/x-python",
   "name": "python",
   "nbconvert_exporter": "python",
   "pygments_lexer": "ipython3",
   "version": "3.10.13"
  }
 },
 "nbformat": 4,
 "nbformat_minor": 5
}
